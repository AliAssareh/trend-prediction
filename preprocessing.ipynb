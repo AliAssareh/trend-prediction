{
 "cells": [
  {
   "cell_type": "code",
   "execution_count": 1,
   "id": "3bfdce3e-61b6-4be1-a896-5730178029ff",
   "metadata": {},
   "outputs": [],
   "source": [
    "from FeatureEngineeringUtils.btc_feature_engineering_utils import preprocess_m1_df, BtcPreprocessor, TargetExtractor, DataMixer, FeatureEngineer, FeatureExtractor, Exogenous, Target\n",
    "from FeatureEngineeringUtils.exo_feature_engineering_utils import ExoPreprocessor, recreate_the_h4_candles_from_hourly, recreate_the_spx_h1_candles_from_quarterly, remove_the_volume_column, make_sure_no_row_has_volume_equal_to_zero"
   ]
  },
  {
   "cell_type": "markdown",
   "id": "c806e2b6-21f2-4b66-80ed-49d3088d7e1d",
   "metadata": {},
   "source": [
    "# Part1) Exogenous data preprocessing"
   ]
  },
  {
   "cell_type": "markdown",
   "id": "c8cf8b98-cb44-4d36-9609-46c88e7150ee",
   "metadata": {},
   "source": [
    "## A) Recreation of higher timeframes from lower ones:"
   ]
  },
  {
   "cell_type": "code",
   "execution_count": 2,
   "id": "11e02736-7fc6-4cd4-b9cc-318f43e63f49",
   "metadata": {},
   "outputs": [],
   "source": [
    "recreate_the_spx_h1_candles_from_quarterly()"
   ]
  },
  {
   "cell_type": "code",
   "execution_count": 3,
   "id": "e4c58c46-b063-46a4-ab58-4706fffcc62e",
   "metadata": {},
   "outputs": [],
   "source": [
    "for name in ['DXY', 'GOLD', 'SPX', 'UKOIL']:\n",
    "    from_reconstructed_data = True if name == 'SPX' else False\n",
    "    recreate_the_h4_candles_from_hourly(name, first_day='2018-11-01 00:00:00', from_reconstructed_data=from_reconstructed_data)"
   ]
  },
  {
   "cell_type": "markdown",
   "id": "057e420a-6e02-45fb-8b1a-644735a96468",
   "metadata": {},
   "source": [
    "### B) Drop the volume from DXY and replace where volume == 0 for others"
   ]
  },
  {
   "cell_type": "code",
   "execution_count": 4,
   "id": "d7a4976e-01cd-46f6-87ae-8b3fa91b711e",
   "metadata": {
    "tags": []
   },
   "outputs": [
    {
     "name": "stdout",
     "output_type": "stream",
     "text": [
      "volume column modified for Data//BTCD_240.csv\n",
      "volume column modified for Data//BTCD_60.csv\n",
      "volume column modified for Data//BTCD_15.csv\n",
      "volume column modified for Data//TOTAL_240.csv\n",
      "volume column modified for Data//TOTAL_60.csv\n",
      "volume column modified for Data//TOTAL_15.csv\n",
      "volume column modified for Data//TOTAL2_240.csv\n",
      "volume column modified for Data//TOTAL2_60.csv\n",
      "volume column modified for Data//TOTAL2_15.csv\n",
      "volume column modified for Data//TOTAL3_240.csv\n",
      "volume column modified for Data//TOTAL3_60.csv\n",
      "volume column modified for Data//TOTAL3_15.csv\n",
      "volume column modified for Data//USDTD_240.csv\n",
      "volume column modified for Data//USDTD_60.csv\n",
      "volume column modified for Data//USDTD_15.csv\n",
      "volume column modified for RepairedExoData//GOLD_240.csv\n",
      "volume column modified for Data//GOLD_60.csv\n",
      "volume column modified for Data//GOLD_15.csv\n",
      "volume column modified for RepairedExoData//SPX_240.csv\n",
      "volume column modified for RepairedExoData//SPX_60.csv\n",
      "volume column modified for Data//SPX_15.csv\n",
      "volume column modified for RepairedExoData//UKOIL_240.csv\n",
      "volume column modified for Data//UKOIL_60.csv\n",
      "volume column modified for Data//UKOIL_15.csv\n"
     ]
    }
   ],
   "source": [
    "names = ['BTCD', 'TOTAL', 'TOTAL2', 'TOTAL3', 'USDTD', 'DXY', 'GOLD', 'SPX', 'UKOIL']\n",
    "timeframes = [240, 60, 15]\n",
    "for name in names:\n",
    "    for timeframe in timeframes:\n",
    "        reconstructed = True if (((name in ['DXY', 'GOLD', 'SPX', 'UKOIL']) and (timeframe == 240)) or ((name == 'SPX') and (timeframe == 60))) else False\n",
    "        if name == 'DXY':\n",
    "            remove_the_volume_column(name, timeframe, reconstructed)\n",
    "        else:\n",
    "            make_sure_no_row_has_volume_equal_to_zero(name, timeframe, reconstructed)"
   ]
  },
  {
   "cell_type": "markdown",
   "id": "07fd680c-011c-44b3-a083-82c551c9ee78",
   "metadata": {},
   "source": [
    "## C) Calculation of the indicators and interpolation of the missing values:"
   ]
  },
  {
   "cell_type": "code",
   "execution_count": 5,
   "id": "315e0190-a1ea-4902-bddf-69493b8ca3b3",
   "metadata": {},
   "outputs": [],
   "source": [
    "names = ['BTCD', 'TOTAL', 'TOTAL2', 'TOTAL3', 'USDTD', 'DXY', 'GOLD', 'SPX', 'UKOIL']\n",
    "timeframes = [240, 60, 15]\n",
    "first_days = {'240': '2019-01-01 00:00:00', '60': '2021-05-01 00:00:00', '15': '2021-09-20 00:00:00'}\n",
    "for name in names:\n",
    "    for timeframe in timeframes:\n",
    "        from_reconstructed_data = True if (((name in ['DXY', 'GOLD', 'SPX', 'UKOIL']) and (timeframe == 240)) or ((name == 'SPX') and (timeframe == 60))) else False \n",
    "        exo_preprocessor = ExoPreprocessor(name, timeframe, from_reconstructed_data=from_reconstructed_data, first_day=first_days.get(str(timeframe)))\n",
    "        exo_preprocessor.run()"
   ]
  },
  {
   "cell_type": "markdown",
   "id": "53121752-bb7b-4fe1-944e-13bf1862fee0",
   "metadata": {},
   "source": [
    "# Part2) Endogenous data preprocessing and target definition"
   ]
  },
  {
   "cell_type": "markdown",
   "id": "e9a1171c-550d-46d6-8b11-4f8adbd37d8f",
   "metadata": {
    "tags": []
   },
   "source": [
    "## A) Interpolattion of the m1 missing values:"
   ]
  },
  {
   "cell_type": "code",
   "execution_count": 6,
   "id": "f4c1171d-cb4a-440d-a9bc-1c628ef1e36a",
   "metadata": {},
   "outputs": [],
   "source": [
    "preprocess_m1_df('Data//BTCUSDT_1.csv')"
   ]
  },
  {
   "cell_type": "markdown",
   "id": "9af3f43d-2dfc-46c1-b829-bad7cdfd3007",
   "metadata": {
    "tags": []
   },
   "source": [
    "## B) Interpolation of the data and calculation of the indicators:"
   ]
  },
  {
   "cell_type": "code",
   "execution_count": 7,
   "id": "c75024af-bd25-4312-b3b5-da2dfec74321",
   "metadata": {},
   "outputs": [],
   "source": [
    "for timeframe in [240, 60, 15]:\n",
    "    btc_preprocessor = BtcPreprocessor(original_timeframe=240, timeframe=timeframe)\n",
    "    btc_preprocessor.run()"
   ]
  },
  {
   "cell_type": "markdown",
   "id": "1e20e770-8c82-4266-9a23-28d4fb0b7a46",
   "metadata": {},
   "source": [
    "## C) Defining the targets:"
   ]
  },
  {
   "cell_type": "code",
   "execution_count": 8,
   "id": "a467bdf5-3d20-4bda-8721-7f0799e38b07",
   "metadata": {},
   "outputs": [],
   "source": [
    "for timeframe in [240, 60, 15]:\n",
    "    target_extractor = TargetExtractor(original_timeframe=240, timeframe=timeframe)\n",
    "    target_extractor.run()"
   ]
  },
  {
   "cell_type": "markdown",
   "id": "948433cd-5b8e-4908-b164-e7eb7cf07d78",
   "metadata": {},
   "source": [
    "# Part3) Mixing the endogenous and the exogenous features and croping the common parts"
   ]
  },
  {
   "cell_type": "code",
   "execution_count": 9,
   "id": "de57ee2f-f7f7-42ab-a704-fdcfe29e3c24",
   "metadata": {},
   "outputs": [],
   "source": [
    "names = {'target1': {'regular': {'240': 'mix_4h_for_target1', '60': 'mix_1h_for_target1', '15': 'mix_15m_for_target1'},\n",
    "                    'none': {'240': 'btc_4h_for_target1', '60': 'btc_1h_for_target1', '15': 'btc_15m_for_target1'}},\n",
    "        }\n",
    "first_days = {'regular': {'240': '2019-01-01 00:00:00', '60': '2021-05-01 00:00:00', '15': '2021-09-20 00:00:00'},\n",
    "             'none': {'240': '2017-08-28 16:00:00', '60': '2017-08-28 19:00:00', '15': '2017-08-28 19:45:00'}}\n",
    "\n",
    "last_days = {'target1': '2021-12-31 20:00:00'}\n",
    "\n",
    "for target in ['target1']:\n",
    "    for use_exo_data in ['regular', 'none']:\n",
    "        for timeframe in [240, 60, 15]:\n",
    "            data_mixer = DataMixer(df_name=names.get(target).get(str(use_exo_data)).get(str(timeframe)),\n",
    "                                   timeframe=timeframe, target=target, use_exogenous_data=use_exo_data,\n",
    "                                   first_day=first_days.get(str(use_exo_data)).get(str(timeframe)),\n",
    "                                   last_day=last_days.get(target))\n",
    "            data_mixer.run()"
   ]
  },
  {
   "cell_type": "markdown",
   "id": "ed640389-616c-4f76-a4ce-2aeb231fdf9b",
   "metadata": {},
   "source": [
    "# Part4) Preparation of the data for train, test and validation"
   ]
  },
  {
   "cell_type": "code",
   "execution_count": 10,
   "id": "65988101-baee-453b-8a3c-91459be2f8eb",
   "metadata": {},
   "outputs": [
    {
     "name": "stdout",
     "output_type": "stream",
     "text": [
      "target=  target1\n",
      "for mix_4h_for_target1_1: initial number of features: 956        final number of features : 618\n",
      "for mix_1h_for_target1_1: initial number of features: 956        final number of features : 594\n",
      "for mix_15m_for_target1_1: initial number of features: 956        final number of features : 652\n",
      "for btc_4h_for_target1_1: initial number of features: 98        final number of features : 74\n",
      "for btc_1h_for_target1_1: initial number of features: 98        final number of features : 74\n",
      "for btc_15m_for_target1_1: initial number of features: 98        final number of features : 74\n"
     ]
    }
   ],
   "source": [
    "df_names = {'target1': {'regular': {'240': 'mix_4h_for_target1', '60': 'mix_1h_for_target1', '15': 'mix_15m_for_target1'},\n",
    "                    'none': {'240': 'btc_4h_for_target1', '60': 'btc_1h_for_target1', '15': 'btc_15m_for_target1'}},\n",
    "        }\n",
    "model_name_suffix = {'target1': '1_1'}\n",
    "\n",
    "for target in ['target1']:\n",
    "    print('target= ', target)\n",
    "    for use_exo_data in ['regular', 'none']:\n",
    "        for timeframe in [240, 60, 15]:\n",
    "            engineer = FeatureEngineer(df_name=df_names.get(target).get(str(use_exo_data)).get(str(timeframe)),\n",
    "                                       model_name=df_names.get(target).get(str(use_exo_data)).get(str(timeframe))[0:-1] + model_name_suffix.get(target),\n",
    "                                       target=target, maximum_allowed_correlation_between_features=0.95)\n",
    "            engineer.run()\n",
    "            model_name = engineer.model_name\n",
    "            initial_num_features = engineer.initial_number_of_features\n",
    "            final_num_features = engineer.number_of_features\n",
    "            print(f'for {model_name}: initial number of features: {initial_num_features}        final number of features : {final_num_features}')"
   ]
  },
  {
   "cell_type": "code",
   "execution_count": 11,
   "id": "544ddadd-b57d-43e5-9199-d4358e65d5d6",
   "metadata": {},
   "outputs": [],
   "source": [
    "names = {'target1': {'regular': {'240': 'mix_4h_for_target1', '60': 'mix_1h_for_target1', '15': 'mix_15m_for_target1'},\n",
    "                    'none': {'240': 'btc_4h_for_target1', '60': 'btc_1h_for_target1', '15': 'btc_15m_for_target1'}},\n",
    "        }\n",
    "\n",
    "model_name_suffix = {'target1': '1_1'}\n",
    "\n",
    "for target in ['target1']:\n",
    "    for use_exo_data in ['regular', 'none']:\n",
    "        for timeframe in [240, 60, 15]:\n",
    "            feature_extractor = FeatureExtractor(df_name=names.get(target).get(str(use_exo_data)).get(str(timeframe)))\n",
    "            feature_extractor.extract_features(model_name=df_names.get(target).get(str(use_exo_data)).get(str(timeframe))[0:-1] + model_name_suffix.get(target),\n",
    "                                               save=True)"
   ]
  },
  {
   "cell_type": "code",
   "execution_count": null,
   "id": "a1ec4b7e-02df-4088-99f5-dbfd2bec8c29",
   "metadata": {},
   "outputs": [],
   "source": []
  }
 ],
 "metadata": {
  "kernelspec": {
   "display_name": "Python 3 (ipykernel)",
   "language": "python",
   "name": "python3"
  },
  "language_info": {
   "codemirror_mode": {
    "name": "ipython",
    "version": 3
   },
   "file_extension": ".py",
   "mimetype": "text/x-python",
   "name": "python",
   "nbconvert_exporter": "python",
   "pygments_lexer": "ipython3",
   "version": "3.8.12"
  }
 },
 "nbformat": 4,
 "nbformat_minor": 5
}
