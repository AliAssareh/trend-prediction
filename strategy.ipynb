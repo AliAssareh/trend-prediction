{
 "cells": [
  {
   "cell_type": "code",
   "execution_count": null,
   "id": "ba66dd75-d629-4f45-932e-e90ea5ad1299",
   "metadata": {},
   "outputs": [],
   "source": [
    "from StrategyUtils.strategy import get_predictions_dfs, StrategyTester, Strategy, save_strategy_df, load_strategy_df\n",
    "from matplotlib import pyplot as plt\n",
    "from datetime import datetime\n",
    "import pandas as pd\n",
    "import numpy as np\n",
    "\n",
    "%config InlineBackend.figure_format = 'retina'\n",
    "%matplotlib inline"
   ]
  },
  {
   "cell_type": "markdown",
   "id": "e0848c36-5790-4b39-9f25-de23497912b7",
   "metadata": {},
   "source": [
    "# Determine wether to create_strategy_dfs or just load the previous ones"
   ]
  },
  {
   "cell_type": "code",
   "execution_count": null,
   "id": "7106fb65-9431-42e1-b00a-b5653f4f2323",
   "metadata": {},
   "outputs": [],
   "source": [
    "just_load = True"
   ]
  },
  {
   "cell_type": "code",
   "execution_count": null,
   "id": "01ea9752-2a29-4c41-a036-65da402c690f",
   "metadata": {},
   "outputs": [],
   "source": [
    "if just_load:\n",
    "    pass\n",
    "else:\n",
    "    h4_train, h4_val, h4_test = get_predictions_dfs(240)\n",
    "    h1_train, h1_val, h1_test = get_predictions_dfs(60)\n",
    "    m15_train, m15_val, m15_test = get_predictions_dfs(15)"
   ]
  },
  {
   "cell_type": "code",
   "execution_count": null,
   "id": "c36905f2-9db7-4eaa-9f8d-bf0b83869ba9",
   "metadata": {},
   "outputs": [],
   "source": [
    "if just_load is False:\n",
    "    m15_train.head(1).index"
   ]
  },
  {
   "cell_type": "code",
   "execution_count": null,
   "id": "969ed375-6a08-427c-8b73-a10c85464374",
   "metadata": {},
   "outputs": [],
   "source": [
    "if just_load is False:\n",
    "    m15_val.head(1).index"
   ]
  },
  {
   "cell_type": "code",
   "execution_count": null,
   "id": "ea989c3f-dcd3-46c1-a758-6ecc4817d6af",
   "metadata": {},
   "outputs": [],
   "source": [
    "if just_load is False:\n",
    "    m15_test.head(1).index"
   ]
  },
  {
   "cell_type": "code",
   "execution_count": null,
   "id": "b0e1b8be-4fcc-4d92-97a9-528f7451f4c4",
   "metadata": {
    "tags": []
   },
   "outputs": [],
   "source": [
    "if just_load is False:\n",
    "    m15_test.tail(1).index"
   ]
  },
  {
   "cell_type": "markdown",
   "id": "8b56fe5c-9173-48ff-ad49-cb15426d8251",
   "metadata": {
    "tags": []
   },
   "source": [
    "# Train"
   ]
  },
  {
   "cell_type": "code",
   "execution_count": null,
   "id": "580b10b0-158f-45e9-b7e4-3e05d9a94d08",
   "metadata": {},
   "outputs": [],
   "source": [
    "if just_load is True:\n",
    "    train_df = load_strategy_df('nvae_train')\n",
    "else:\n",
    "    train_df = m15_train.copy() \n",
    "\n",
    "    train_df['h4_decision'] = h4_train.decision.shift(1)\n",
    "    train_df['h4_decision'] = train_df.h4_decision.shift(-1)\n",
    "\n",
    "    train_df['h1_decision'] = h1_train.decision.shift(1)\n",
    "    train_df['h1_decision'] = train_df.h1_decision.shift(-1)\n",
    "\n",
    "    train_df.fillna(method='ffill', inplace=True)\n",
    "    train_df.rename(columns={'decision': 'm15_decision'}, inplace=True)\n",
    "    \n",
    "    save_strategy_df(train_df, 'nvae_train')"
   ]
  },
  {
   "cell_type": "code",
   "execution_count": null,
   "id": "7ef63868-b3d9-41e1-ab32-f4fb7adceac1",
   "metadata": {},
   "outputs": [],
   "source": [
    "# strategy \n",
    "train_df['short_signal'] = (train_df.h4_decision < 0) & (train_df.m15_decision > 0.65) & (train_df.m15_decision < 0.79)\n",
    "train_df['close_long'] = (train_df.h4_decision > 0.3) & (train_df.m15_decision > 0.5)\n",
    "\n",
    "train_df['close_short'] = (train_df.h4_decision < -0.3) & (train_df.m15_decision < -0.5)\n",
    "train_df['long_signal'] = (train_df.h4_decision > 0) & ((train_df.m15_decision < -0.92) | ((train_df.m15_decision < -0.41) & (train_df.m15_decision > -0.82)))\n",
    "\n",
    "train_df['Neutral'] = (train_df.short_signal == False) & (train_df.close_long == False) & (train_df.close_short == False) & (train_df.long_signal == False)\n",
    "\n",
    "train_df['decision'] = train_df.apply(lambda x: np.argmax(x[6:11]), axis=1, raw=True)\n",
    "\n",
    "train_decisions_df = train_df.loc[:, ['high', 'low', 'closing_price', 'decision']]\n",
    "s1 = StrategyTester(train_decisions_df)\n",
    "\n",
    "# buy and hold\n",
    "train_df2 = train_df.copy()\n",
    "train_df2['short_signal'] = False\n",
    "train_df2['close_long'] = False\n",
    "\n",
    "train_df2['close_short'] = False\n",
    "train_df2['long_signal'] = True\n",
    "\n",
    "train_df2['Neutral'] = False\n",
    "\n",
    "train_df2['decision'] = train_df2.apply(lambda x: np.argmax(x[6:11]), axis=1, raw=True)\n",
    "\n",
    "train_decisions_df2 = train_df2.loc[:, ['high', 'low', 'closing_price', 'decision']]\n",
    "\n",
    "s2 = StrategyTester(train_decisions_df2)"
   ]
  },
  {
   "cell_type": "markdown",
   "id": "af5d1da1-2c59-438f-bd27-fe8af4a62b5b",
   "metadata": {},
   "source": [
    "## strategy 2"
   ]
  },
  {
   "cell_type": "code",
   "execution_count": null,
   "id": "55699928-e060-4fd1-83ea-260137ace311",
   "metadata": {
    "tags": []
   },
   "outputs": [],
   "source": [
    "# plot strategy results\n",
    "pnl_df = s1.generate_results(Strategy.four_states_buy_only.value)\n",
    "plt.figure(figsize=(40, 20))\n",
    "plt.hlines(0, 0, len(pnl_df), color=['red'])\n",
    "pnl_df['cpnl'] = pnl_df.pnl.cumsum()\n",
    "pnl_df.cpnl.fillna(method='ffill', inplace=True)\n",
    "plt.plot(pnl_df.cpnl.values, 'm-')\n",
    "\n",
    "\n",
    "# buy and hold\n",
    "pnl_df2 = s2.generate_results(Strategy.four_states_buy_only.value)\n",
    "pnl_df2['cpnl'] = pnl_df2.pnl.cumsum()\n",
    "pnl_df2.live_cpnl.fillna(method='ffill', inplace=True)\n",
    "plt.plot(pnl_df2.live_cpnl.values, 'b-')\n",
    "plt.show()\n",
    "\n",
    "print('strategy2: ')\n",
    "print('profit: ', pnl_df.pnl.sum(), '$')\n",
    "print('MDD: ', s1.mdd, '$')\n",
    "print('percentage of profitable trades: ', 100 * len(pnl_df[pnl_df.pnl > 0]) / len(pnl_df.dropna()), '%')\n",
    "print(f'number of positions: {s1.n_positions}')\n",
    "\n",
    "print('___________________________________')\n",
    "\n",
    "print('BuyAndHold: ')\n",
    "print('profit: ', pnl_df2.pnl.sum(), '$')\n",
    "print('MDD: ', s2.mdd, '$')\n",
    "print('percentage of profitable trades: ', 100 * len(pnl_df2[pnl_df2.pnl > 0]) / 1, '%')\n",
    "print(f'number of positions: {s2.n_positions}')\n",
    "\n",
    "plt.figure(figsize=(40, 20))\n",
    "live_cpnl = pnl_df.btc_live_cpnl.fillna(method='ffill')\n",
    "plt.plot(live_cpnl.values, 'm-')\n",
    "plt.plot(pnl_df.close.values, 'b-')\n",
    "plt.show()\n",
    "print('1btc strategy2_profit: ', live_cpnl.values[-1], '$')\n",
    "print('1btc BuyAndHold_profit: ', pnl_df.iloc[-1, pnl_df.columns.get_loc('close')], '$')"
   ]
  },
  {
   "cell_type": "markdown",
   "id": "c2895d53-111c-4410-9e4d-f35b11e5971b",
   "metadata": {},
   "source": [
    "## strategy 4"
   ]
  },
  {
   "cell_type": "code",
   "execution_count": null,
   "id": "b30b9c20-943c-45d2-be00-91c19bb8613f",
   "metadata": {},
   "outputs": [],
   "source": [
    "# plot strategy results\n",
    "pnl_df = s1.generate_results(Strategy.four_states_buy_and_sell.value)\n",
    "plt.figure(figsize=(40, 20))\n",
    "plt.hlines(0, 0, len(pnl_df), color=['red'])\n",
    "pnl_df['cpnl'] = pnl_df.pnl.cumsum()\n",
    "pnl_df.cpnl.fillna(method='ffill', inplace=True)\n",
    "plt.plot(pnl_df.cpnl.values, 'm-')\n",
    "\n",
    "# buy and hold\n",
    "pnl_df2 = s2.generate_results(Strategy.four_states_buy_and_sell.value)\n",
    "pnl_df2['cpnl'] = pnl_df2.pnl.cumsum()\n",
    "pnl_df2.live_cpnl.fillna(method='ffill', inplace=True)\n",
    "plt.plot(pnl_df2.live_cpnl.values, 'b-')\n",
    "plt.show()\n",
    "\n",
    "print('strategy4: ')\n",
    "print('profit: ', pnl_df.pnl.sum(), '$')\n",
    "print('MDD: ', s1.mdd, '$')\n",
    "print('percentage of profitable trades: ', 100 * len(pnl_df[pnl_df.pnl > 0]) / len(pnl_df.dropna()), '%')\n",
    "print(f'number of positions: {s1.n_positions}')\n",
    "\n",
    "print('___________________________________')\n",
    "\n",
    "print('BuyAndHold: ')\n",
    "print('profit: ', pnl_df2.pnl.sum(), '$')\n",
    "print('MDD: ', s2.mdd, '$')\n",
    "print('percentage of profitable trades: ', 100 * len(pnl_df2[pnl_df2.pnl > 0]) / 1, '%')\n",
    "print(f'number of positions: {s2.n_positions}')\n",
    "\n",
    "plt.figure(figsize=(40, 20))\n",
    "live_cpnl = pnl_df.btc_live_cpnl.fillna(method='ffill')\n",
    "plt.plot(live_cpnl.values, 'm-')\n",
    "plt.plot(pnl_df.close.values, 'b-')\n",
    "plt.show()\n",
    "print('1btc strategy2_profit: ', live_cpnl.values[-1], '$')\n",
    "print('1btc BuyAndHold_profit: ', pnl_df.iloc[-1, pnl_df.columns.get_loc('close')], '$')"
   ]
  },
  {
   "cell_type": "markdown",
   "id": "30fe5147-6d10-480a-9d69-11e18ccb57c8",
   "metadata": {},
   "source": [
    "# Validation"
   ]
  },
  {
   "cell_type": "code",
   "execution_count": null,
   "id": "9e31d545-3d73-4200-991c-bd5c422e50c3",
   "metadata": {},
   "outputs": [],
   "source": [
    "if just_load is True:\n",
    "    val_df = load_strategy_df('nvae_val')\n",
    "else:\n",
    "    val_df = m15_val.copy() \n",
    "\n",
    "    val_df['h4_decision'] = h4_val.decision.shift(1)\n",
    "    val_df['h4_decision'] = val_df.h4_decision.shift(-1)\n",
    "\n",
    "    val_df['h1_decision'] = h1_val.decision.shift(1)\n",
    "    val_df['h1_decision'] = val_df.h1_decision.shift(-1)\n",
    "\n",
    "    val_df.fillna(method='ffill', inplace=True)\n",
    "    val_df.rename(columns={'decision': 'm15_decision'}, inplace=True)\n",
    "    \n",
    "    save_strategy_df(val_df, 'nvae_val')"
   ]
  },
  {
   "cell_type": "code",
   "execution_count": null,
   "id": "d49c20a7-68f3-4b78-86f4-4ecacfc45f58",
   "metadata": {},
   "outputs": [],
   "source": [
    "# strategy\n",
    "val_df['short_signal'] = (val_df.h4_decision < 0) & (val_df.m15_decision > 0.65) & (val_df.m15_decision < 0.79)\n",
    "val_df['close_long'] = (val_df.h4_decision > 0.3) & (val_df.m15_decision > 0.5)\n",
    "\n",
    "val_df['close_short'] = (val_df.h4_decision < -0.3) & (val_df.m15_decision < -0.5)\n",
    "val_df['long_signal'] = (val_df.h4_decision > 0) & ((val_df.m15_decision < -0.92) | ((val_df.m15_decision < -0.41) & (val_df.m15_decision > -0.82)))\n",
    "val_df['Neutral'] = (val_df.short_signal == False) & (val_df.close_long == False) & (val_df.close_short == False) & (val_df.long_signal == False)\n",
    "\n",
    "val_df['decision'] = val_df.apply(lambda x: np.argmax(x[6:11]), axis=1, raw=True)\n",
    "\n",
    "val_decisions_df = val_df.loc[:, ['high', 'low', 'closing_price', 'decision']]\n",
    "\n",
    "s1 = StrategyTester(val_decisions_df)\n",
    "\n",
    "# buy and hold\n",
    "val_df2 = val_df.copy()\n",
    "val_df2['short_signal'] = False\n",
    "val_df2['close_long'] = False\n",
    "\n",
    "val_df2['close_short'] = False\n",
    "val_df2['long_signal'] = True\n",
    "\n",
    "val_df2['Neutral'] = False\n",
    "\n",
    "val_df2['decision'] = val_df2.apply(lambda x: np.argmax(x[6:11]), axis=1, raw=True)\n",
    "\n",
    "val_decisions_df2 = val_df2.loc[:, ['high', 'low', 'closing_price', 'decision']]\n",
    "\n",
    "s2 = StrategyTester(val_decisions_df2)"
   ]
  },
  {
   "cell_type": "markdown",
   "id": "5d3ab366-c2fe-4778-9726-b1066d567dcb",
   "metadata": {},
   "source": [
    "## Strategy 2"
   ]
  },
  {
   "cell_type": "code",
   "execution_count": null,
   "id": "f5d284a4-5a3a-4bfc-9eda-5f9f6cc44158",
   "metadata": {
    "tags": []
   },
   "outputs": [],
   "source": [
    "# plot strategy results\n",
    "pnl_df = s1.generate_results(Strategy.four_states_buy_only.value)\n",
    "plt.figure(figsize=(40, 20))\n",
    "plt.hlines(0, 0, len(pnl_df), color=['red'])\n",
    "pnl_df['cpnl'] = pnl_df.pnl.cumsum()\n",
    "pnl_df.cpnl.fillna(method='ffill', inplace=True)\n",
    "plt.plot(pnl_df.cpnl.values, 'm-')\n",
    "\n",
    "# buy and hold\n",
    "pnl_df2 = s2.generate_results(Strategy.four_states_buy_only.value)\n",
    "pnl_df2['cpnl'] = pnl_df2.pnl.cumsum()\n",
    "pnl_df2.live_cpnl.fillna(method='ffill', inplace=True)\n",
    "plt.plot(pnl_df2.live_cpnl.values, 'b-')\n",
    "plt.show()\n",
    "\n",
    "print('strategy2: ')\n",
    "print('profit: ', pnl_df.pnl.sum(), '$')\n",
    "print('MDD: ', s1.mdd, '$')\n",
    "print('percentage of profitable trades: ', 100 * len(pnl_df[pnl_df.pnl > 0]) / len(pnl_df.dropna()), '%')\n",
    "print(f'number of positions: {s1.n_positions}')\n",
    "\n",
    "print('___________________________________')\n",
    "\n",
    "print('BuyAndHold: ')\n",
    "print('profit: ', pnl_df2.pnl.sum(), '$')\n",
    "print('MDD: ', s2.mdd, '$')\n",
    "print('percentage of profitable trades: ', 100 * len(pnl_df2[pnl_df2.pnl > 0]) / 1, '%')\n",
    "print(f'number of positions: {s2.n_positions}')\n",
    "\n",
    "plt.figure(figsize=(40, 20))\n",
    "live_cpnl = pnl_df.btc_live_cpnl.fillna(method='ffill')\n",
    "plt.plot(live_cpnl.values, 'm-')\n",
    "plt.plot(pnl_df.close.values, 'b-')\n",
    "plt.show()\n",
    "print('1btc strategy2_profit: ', live_cpnl.values[-1], '$')\n",
    "print('1btc BuyAndHold_profit: ', pnl_df.iloc[-1, pnl_df.columns.get_loc('close')], '$')"
   ]
  },
  {
   "cell_type": "markdown",
   "id": "2dfecbea-aaa6-4ef1-bdbd-cf0ae5c8b6e6",
   "metadata": {},
   "source": [
    "## Strategy 4"
   ]
  },
  {
   "cell_type": "code",
   "execution_count": null,
   "id": "85c3277f-d29c-4e1c-91f5-394fc39ee0db",
   "metadata": {
    "tags": []
   },
   "outputs": [],
   "source": [
    "# plot strategy results\n",
    "pnl_df = s1.generate_results(Strategy.four_states_buy_and_sell.value)\n",
    "plt.figure(figsize=(40, 20))\n",
    "plt.hlines(0, 0, len(pnl_df), color=['red'])\n",
    "pnl_df['cpnl'] = pnl_df.pnl.cumsum()\n",
    "pnl_df.cpnl.fillna(method='ffill', inplace=True)\n",
    "plt.plot(pnl_df.cpnl.values, 'm-')\n",
    "\n",
    "# buy and hold\n",
    "pnl_df2 = s2.generate_results(Strategy.four_states_buy_and_sell.value)\n",
    "pnl_df2['cpnl'] = pnl_df2.pnl.cumsum()\n",
    "pnl_df2.live_cpnl.fillna(method='ffill', inplace=True)\n",
    "plt.plot(pnl_df2.live_cpnl.values, 'b-')\n",
    "plt.show()\n",
    "\n",
    "print('strategy4: ')\n",
    "print('profit: ', pnl_df.pnl.sum(), '$')\n",
    "print('MDD: ', s1.mdd, '$')\n",
    "print('percentage of profitable trades: ', 100 * len(pnl_df[pnl_df.pnl > 0]) / len(pnl_df.dropna()), '%')\n",
    "print(f'number of positions: {s1.n_positions}')\n",
    "\n",
    "print('___________________________________')\n",
    "\n",
    "print('BuyAndHold: ')\n",
    "print('profit: ', pnl_df2.pnl.sum(), '$')\n",
    "print('MDD: ', s2.mdd, '$')\n",
    "print('percentage of profitable trades: ', 100 * len(pnl_df2[pnl_df2.pnl > 0]) / 1, '%')\n",
    "print(f'number of positions: {s2.n_positions}')\n",
    "\n",
    "plt.figure(figsize=(40, 20))\n",
    "live_cpnl = pnl_df.btc_live_cpnl.fillna(method='ffill')\n",
    "plt.plot(live_cpnl.values, 'm-')\n",
    "plt.plot(pnl_df.close.values, 'b-')\n",
    "plt.show()\n",
    "print('1btc strategy2_profit: ', live_cpnl.values[-1], '$')\n",
    "print('1btc BuyAndHold_profit: ', pnl_df.iloc[-1, pnl_df.columns.get_loc('close')], '$')"
   ]
  },
  {
   "cell_type": "markdown",
   "id": "6ca8d383-57ca-49e0-a80b-8518cc0590d8",
   "metadata": {},
   "source": [
    "# Test"
   ]
  },
  {
   "cell_type": "code",
   "execution_count": null,
   "id": "36f7eb3d-885b-43ee-89a9-9a01602aee69",
   "metadata": {},
   "outputs": [],
   "source": [
    "if just_load is True:\n",
    "    test_df = load_strategy_df('nvae_test')\n",
    "else:\n",
    "    test_df = m15_test.copy() \n",
    "\n",
    "    test_df['h4_decision'] = h4_test.decision.shift(1)\n",
    "    test_df['h4_decision'] = test_df.h4_decision.shift(-1)\n",
    "\n",
    "    test_df['h1_decision'] = h1_test.decision.shift(1)\n",
    "    test_df['h1_decision'] = test_df.h1_decision.shift(-1)\n",
    "\n",
    "    test_df.fillna(method='ffill', inplace=True)\n",
    "    test_df.rename(columns={'decision': 'm15_decision'}, inplace=True)\n",
    "    \n",
    "    save_strategy_df(test_df, 'nvae_test')"
   ]
  },
  {
   "cell_type": "code",
   "execution_count": null,
   "id": "7534fb28-fd2d-4718-b3c2-af8cfb1c51ca",
   "metadata": {},
   "outputs": [],
   "source": [
    "# strategy 4\n",
    "test_df['short_signal'] = (test_df.h4_decision < 0) & (test_df.m15_decision > 0.65) & (test_df.m15_decision < 0.79)\n",
    "test_df['close_long'] = (test_df.h4_decision > 0.3) & (test_df.m15_decision > 0.5)\n",
    "\n",
    "test_df['close_short'] = (test_df.h4_decision < -0.3) & (test_df.m15_decision < -0.5)\n",
    "test_df['long_signal'] = (test_df.h4_decision > 0) & ((test_df.m15_decision < -0.92) | ((test_df.m15_decision < -0.41) & (test_df.m15_decision > -0.82)))\n",
    "test_df['Neutral'] = (test_df.short_signal == False) & (test_df.close_long == False) & (test_df.close_short == False) & (test_df.long_signal == False)\n",
    "\n",
    "test_df['decision'] = test_df.apply(lambda x: np.argmax(x[6:11]), axis=1, raw=True)\n",
    "\n",
    "test_decisions_df = test_df.loc[:, ['high', 'low', 'closing_price', 'decision']]\n",
    "\n",
    "s1 = StrategyTester(test_decisions_df)\n",
    "\n",
    "# buy and hold\n",
    "test_df2 = test_df.copy()\n",
    "test_df2['short_signal'] = False\n",
    "test_df2['close_long'] = False\n",
    "\n",
    "test_df2['close_short'] = False\n",
    "test_df2['long_signal'] = True\n",
    "\n",
    "test_df2['Neutral'] = False\n",
    "\n",
    "test_df2['decision'] = test_df2.apply(lambda x: np.argmax(x[6:11]), axis=1, raw=True)\n",
    "\n",
    "test_decisions_df2 = test_df2.loc[:, ['high', 'low', 'closing_price', 'decision']]\n",
    "\n",
    "s2 = StrategyTester(test_decisions_df2)"
   ]
  },
  {
   "cell_type": "markdown",
   "id": "b9fb9baa-8b71-41d6-bf3d-4e6768a78084",
   "metadata": {},
   "source": [
    "## Strategy 2"
   ]
  },
  {
   "cell_type": "code",
   "execution_count": null,
   "id": "c90acf08-9f0d-4384-87d7-2ef7bd999d68",
   "metadata": {
    "tags": []
   },
   "outputs": [],
   "source": [
    "# plot strategy results\n",
    "pnl_df = s1.generate_results(Strategy.four_states_buy_only.value)\n",
    "plt.figure(figsize=(40, 20))\n",
    "plt.hlines(0, 0, len(pnl_df), color=['red'])\n",
    "pnl_df['cpnl'] = pnl_df.pnl.cumsum()\n",
    "pnl_df.cpnl.fillna(method='ffill', inplace=True)\n",
    "plt.plot(pnl_df.cpnl.values, 'm-')\n",
    "\n",
    "# buy and hold\n",
    "pnl_df2 = s2.generate_results(Strategy.four_states_buy_only.value)\n",
    "pnl_df2['cpnl'] = pnl_df2.pnl.cumsum()\n",
    "pnl_df2.live_cpnl.fillna(method='ffill', inplace=True)\n",
    "plt.plot(pnl_df2.live_cpnl.values, 'b-')\n",
    "plt.show()\n",
    "\n",
    "print('strategy2: ')\n",
    "print('profit: ', pnl_df.pnl.sum(), '$')\n",
    "print('MDD: ', s1.mdd, '$')\n",
    "print('percentage of profitable trades: ', 100 * len(pnl_df[pnl_df.pnl > 0]) / len(pnl_df.dropna()), '%')\n",
    "print(f'number of positions: {s1.n_positions}')\n",
    "\n",
    "print('___________________________________')\n",
    "\n",
    "print('BuyAndHold: ')\n",
    "print('profit: ', pnl_df2.pnl.sum(), '$')\n",
    "print('MDD: ', s2.mdd, '$')\n",
    "print('percentage of profitable trades: ', 100 * len(pnl_df2[pnl_df2.pnl > 0]) / 1, '%')\n",
    "print(f'number of positions: {s2.n_positions}')\n",
    "\n",
    "plt.figure(figsize=(40, 20))\n",
    "live_cpnl = pnl_df.btc_live_cpnl.fillna(method='ffill')\n",
    "plt.plot(live_cpnl.values, 'm-')\n",
    "plt.plot(pnl_df.close.values, 'b-')\n",
    "plt.show()\n",
    "print('1btc strategy2_profit: ', live_cpnl.values[-1], '$')\n",
    "print('1btc BuyAndHold_profit: ', pnl_df.iloc[-1, pnl_df.columns.get_loc('close')], '$')"
   ]
  },
  {
   "cell_type": "markdown",
   "id": "c1cf027d-a5ff-4346-b3ca-a6ecf7d5d12c",
   "metadata": {},
   "source": [
    "## Strategy 4"
   ]
  },
  {
   "cell_type": "code",
   "execution_count": null,
   "id": "e8552c13-f23b-4926-9dfe-a8a8cea09b05",
   "metadata": {
    "tags": []
   },
   "outputs": [],
   "source": [
    "# plot strategy results\n",
    "pnl_df = s1.generate_results(Strategy.four_states_buy_and_sell.value)\n",
    "plt.figure(figsize=(40, 20))\n",
    "plt.hlines(0, 0, len(pnl_df), color=['red'])\n",
    "pnl_df['cpnl'] = pnl_df.pnl.cumsum()\n",
    "pnl_df.cpnl.fillna(method='ffill', inplace=True)\n",
    "plt.plot(pnl_df.cpnl.values, 'm-')\n",
    "\n",
    "# buy and hold\n",
    "pnl_df2 = s2.generate_results(Strategy.four_states_buy_and_sell.value)\n",
    "pnl_df2['cpnl'] = pnl_df2.pnl.cumsum()\n",
    "pnl_df2.live_cpnl.fillna(method='ffill', inplace=True)\n",
    "plt.plot(pnl_df2.live_cpnl.values, 'b-')\n",
    "plt.show()\n",
    "\n",
    "print('strategy4: ')\n",
    "print('profit: ', pnl_df.pnl.sum(), '$')\n",
    "print('MDD: ', s1.mdd, '$')\n",
    "print('percentage of profitable trades: ', 100 * len(pnl_df[pnl_df.pnl > 0]) / len(pnl_df.dropna()), '%')\n",
    "print(f'number of positions: {s1.n_positions}')\n",
    "\n",
    "print('___________________________________')\n",
    "\n",
    "print('BuyAndHold: ')\n",
    "print('profit: ', pnl_df2.pnl.sum(), '$')\n",
    "print('MDD: ', s2.mdd, '$')\n",
    "print('percentage of profitable trades: ', 100 * len(pnl_df2[pnl_df2.pnl > 0]) / 1, '%')\n",
    "print(f'number of positions: {s2.n_positions}')\n",
    "\n",
    "plt.figure(figsize=(40, 20))\n",
    "live_cpnl = pnl_df.btc_live_cpnl.fillna(method='ffill')\n",
    "plt.plot(live_cpnl.values, 'm-')\n",
    "plt.plot(pnl_df.close.values, 'b-')\n",
    "plt.show()\n",
    "print('1btc strategy2_profit: ', live_cpnl.values[-1], '$')\n",
    "print('1btc BuyAndHold_profit: ', pnl_df.iloc[-1, pnl_df.columns.get_loc('close')], '$')"
   ]
  },
  {
   "cell_type": "code",
   "execution_count": null,
   "id": "e87c7c6b-b359-4fe9-b27a-253544774819",
   "metadata": {},
   "outputs": [],
   "source": []
  },
  {
   "cell_type": "code",
   "execution_count": null,
   "id": "0d36d9f5-58b6-4ef9-b0db-47eff553ae3b",
   "metadata": {},
   "outputs": [],
   "source": []
  },
  {
   "cell_type": "code",
   "execution_count": null,
   "id": "8491ead6-6523-43e5-b089-d6cdc5a8d39a",
   "metadata": {},
   "outputs": [],
   "source": []
  }
 ],
 "metadata": {
  "kernelspec": {
   "display_name": "Python 3 (ipykernel)",
   "language": "python",
   "name": "python3"
  },
  "language_info": {
   "codemirror_mode": {
    "name": "ipython",
    "version": 3
   },
   "file_extension": ".py",
   "mimetype": "text/x-python",
   "name": "python",
   "nbconvert_exporter": "python",
   "pygments_lexer": "ipython3",
   "version": "3.8.12"
  }
 },
 "nbformat": 4,
 "nbformat_minor": 5
}
