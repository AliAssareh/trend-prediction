{
 "cells": [
  {
   "cell_type": "markdown",
   "id": "a4fb7a68-5679-4804-ac0b-a7f9cfaf22c0",
   "metadata": {
    "tags": []
   },
   "source": [
    "# Before preprocessing"
   ]
  },
  {
   "cell_type": "markdown",
   "id": "fa47c36d-a74f-4d59-b513-c583b25936f8",
   "metadata": {
    "tags": []
   },
   "source": [
    "## BTCD"
   ]
  },
  {
   "cell_type": "markdown",
   "id": "cb16499b-5c25-4b25-9999-30e0dbb3fc4f",
   "metadata": {},
   "source": [
    "### For all timeframes indicators start with a delay!"
   ]
  },
  {
   "cell_type": "markdown",
   "id": "2f5ec45c-9d0e-4c7b-a2a5-b9178f9d2565",
   "metadata": {},
   "source": [
    "The most appropariate approach might be to bfill the missing values."
   ]
  },
  {
   "cell_type": "markdown",
   "id": "86de3ca4-6835-4794-be0f-0ff46c506d21",
   "metadata": {},
   "source": [
    "BTCD_240m: \n",
    "first candle:  2019-01-01 04:00:00, last candle:  2021-12-02 16:00:00, number of candles:  6400\n",
    "\n",
    "BTCD_60m: \n",
    "first candle:  2021-05-01 00:00:00, last candle:  2021-12-02 17:00:00, number of candles:  5178\n",
    "\n",
    "BTCD_15m: \n",
    "first candle:  2021-09-20 00:00:00, last candle:  2021-12-02 17:00:00, number of candles:  7077"
   ]
  },
  {
   "cell_type": "markdown",
   "id": "c63bf8ed-f3bf-4b43-b6a2-f0c9d192ef45",
   "metadata": {},
   "source": [
    "____________________________________________________________________________________________"
   ]
  },
  {
   "cell_type": "markdown",
   "id": "e6764963-24e1-47c3-a629-1b584ed5314b",
   "metadata": {},
   "source": [
    "## TOTAL"
   ]
  },
  {
   "cell_type": "markdown",
   "id": "611c1fcd-899f-409e-bc0f-aa8012c927cc",
   "metadata": {},
   "source": [
    "TOTAL_240m: \n",
    "first candle:  2014-03-01 00:00:00, last candle:  2021-12-02 16:00:00, number of candles:  16928\n",
    "\n",
    "TOTAL_60m: \n",
    "first candle:  2019-01-01 00:00:00, last candle:  2021-12-02 17:00:00, number of candles:  25598\n",
    "\n",
    "TOTAL_15m: \n",
    "first candle:  2021-05-01 00:00:00, last candle:  2021-12-02 17:30:00, number of candles:  20711"
   ]
  },
  {
   "cell_type": "markdown",
   "id": "756524f6-00e4-43d8-b97d-e2bd2e47867e",
   "metadata": {},
   "source": [
    "___________________________________________________________________________________________"
   ]
  },
  {
   "cell_type": "markdown",
   "id": "778d56e9-e474-4602-8cf3-afc2bacbe178",
   "metadata": {},
   "source": [
    "## TOTAL2"
   ]
  },
  {
   "cell_type": "markdown",
   "id": "8b94c4bc-69da-4071-af47-f0bee327fa20",
   "metadata": {},
   "source": [
    "TOTAL2_240m: \n",
    "first candle:  2019-01-01 04:00:00, last candle:  2021-12-02 16:00:00, number of candles:  6400\n",
    "\n",
    "TOTAL2_60m: \n",
    "first candle:  2021-05-01 00:00:00, last candle:  2021-12-02 17:00:00, number of candles:  5178\n",
    "\n",
    "TOTAL2_15m: \n",
    "first candle:  2021-09-20 00:00:00, last candle:  2021-12-02 17:30:00, number of candles:  7079"
   ]
  },
  {
   "cell_type": "markdown",
   "id": "f9953aca-54c0-47c6-bd7b-563e92a62f75",
   "metadata": {},
   "source": [
    "______________________________________________________________________________________"
   ]
  },
  {
   "cell_type": "markdown",
   "id": "c804ebd3-3b6c-4759-88fd-1041400cb547",
   "metadata": {},
   "source": [
    "## TOTAL3"
   ]
  },
  {
   "cell_type": "markdown",
   "id": "722b1f55-9fbe-4452-9ad6-935ffa4a91ee",
   "metadata": {},
   "source": [
    "TOTAL3_240m: \n",
    "first candle:  2019-01-01 00:00:00, last candle:  2021-12-02 16:00:00, number of candles:  6401\n",
    "\n",
    "TOTAL3_60m: \n",
    "first candle:  2021-05-01 00:00:00, last candle:  2021-12-02 17:00:00, number of candles:  5178\n",
    "\n",
    "TOTAL3_15m: \n",
    "first candle:  2021-09-20 00:00:00, last candle:  2021-12-02 17:45:00, number of candles:  7080"
   ]
  },
  {
   "cell_type": "markdown",
   "id": "d4d72f59-9034-4451-9d6d-a10a5de73567",
   "metadata": {},
   "source": [
    "______________________________________________________________________________________"
   ]
  },
  {
   "cell_type": "markdown",
   "id": "b66f4ce2-577d-4292-8f32-ae2268868783",
   "metadata": {},
   "source": [
    "## USDTD"
   ]
  },
  {
   "cell_type": "markdown",
   "id": "35344221-0e9c-4c61-b49c-8ec5900b84af",
   "metadata": {},
   "source": [
    "USDTD_240m: \n",
    "first candle:  2019-01-01 04:00:00, last candle:  2021-12-02 16:00:00, number of candles:  6400\n",
    "\n",
    "USDTD_60m: \n",
    "first candle:  2021-05-01 00:00:00, last candle:  2021-12-02 17:00:00, number of candles:  5178\n",
    "\n",
    "USDTD_15m: \n",
    "first candle:  2021-09-20 00:00:00, last candle:  2021-12-02 17:45:00, number of candles:  7080"
   ]
  },
  {
   "cell_type": "markdown",
   "id": "e81fee9b-7446-4dfb-ad71-a140af73577f",
   "metadata": {},
   "source": [
    "______________________________________________________________________________________"
   ]
  },
  {
   "cell_type": "markdown",
   "id": "becad00f-d79a-4031-bef2-a10043806505",
   "metadata": {},
   "source": [
    "## DXY"
   ]
  },
  {
   "cell_type": "markdown",
   "id": "c3dcd56b-0430-4f51-b5f4-2cb0da774a86",
   "metadata": {},
   "source": [
    "### DXY 4h has weekends and days after weekend start at 22 utc and continue like that for a day"
   ]
  },
  {
   "cell_type": "markdown",
   "id": "476de82c-21c4-4d9c-bdee-1714a3265f2d",
   "metadata": {},
   "source": [
    "The most appropariate approach might be to reconstruct the 4h from hourly when ever the hourly data is available and to push the sundays and mondays by 2 hours, and then ffill them when the hourly data is not available."
   ]
  },
  {
   "cell_type": "markdown",
   "id": "57696162-8b87-42bc-8bb3-f8b56ea82977",
   "metadata": {},
   "source": [
    "### volume data does not mean any thing for this symbol"
   ]
  },
  {
   "cell_type": "markdown",
   "id": "4b739eab-fab5-4c74-8d83-60d9ffe7f7f3",
   "metadata": {},
   "source": [
    "DXY_240m: \n",
    "first candle:  2009-01-01 00:00:00, last candle:  2021-12-02 16:00:00, number of candles:  20858\n",
    "\n",
    "DXY_60m: \n",
    "first candle:  2017-12-31 23:00:00, last candle:  2021-12-02 17:00:00, number of candles:  24699\n",
    "\n",
    "DXY_15m: \n",
    "first candle:  2021-01-01 00:30:00, last candle:  2021-12-02 17:45:00, number of candles:  21681"
   ]
  },
  {
   "cell_type": "markdown",
   "id": "159de6dd-3f86-480e-b27e-971a37b94dd3",
   "metadata": {},
   "source": [
    "_____________________________________________________________________________________"
   ]
  },
  {
   "cell_type": "markdown",
   "id": "bed5afbd-198d-4d3c-98d3-2a71d3de044a",
   "metadata": {},
   "source": [
    "## GOLD"
   ]
  },
  {
   "cell_type": "markdown",
   "id": "415c980f-acbb-4ea6-9bab-0fe2606ca8d5",
   "metadata": {},
   "source": [
    "### GOLD 4h candles are shifted"
   ]
  },
  {
   "cell_type": "markdown",
   "id": "025b2d29-1c28-4c3a-bfb4-76cf04763e2c",
   "metadata": {},
   "source": [
    "the most appropariate approach is to reconstruct the 4h candles from 1h candles"
   ]
  },
  {
   "cell_type": "markdown",
   "id": "7524d125-989f-4cdf-a92b-a03cb2686102",
   "metadata": {},
   "source": [
    "GOLD_240m: \n",
    "first candle:  2008-12-31 22:00:00, last candle:  2021-12-02 18:00:00, number of candles:  20130\n",
    "\n",
    "GOLD_60m: \n",
    "first candle:  2017-12-31 22:00:00, last candle:  2021-12-02 18:00:00, number of candles:  24237\n",
    "\n",
    "GOLD_15m: \n",
    "first candle:  2021-01-31 22:00:00, last candle:  2021-12-02 18:00:00, number of candles:  20343"
   ]
  },
  {
   "cell_type": "markdown",
   "id": "9708a631-474a-4a6a-a3df-0b224c9175a3",
   "metadata": {},
   "source": [
    "_____________________________________________________________________________________"
   ]
  },
  {
   "cell_type": "markdown",
   "id": "e9e6a5e1-b227-44d4-8812-673c8a56fe25",
   "metadata": {},
   "source": [
    "## SPX"
   ]
  },
  {
   "cell_type": "markdown",
   "id": "13165ac3-0e1c-41dd-a326-5aa46b08babd",
   "metadata": {},
   "source": [
    "### SPX candles are shifted down to 1h"
   ]
  },
  {
   "cell_type": "markdown",
   "id": "8e6be851-ce8d-4163-bd74-dacd5939147b",
   "metadata": {},
   "source": [
    "Since m15 candles are available up to 2018-12-03 the best approach would be to recreate the h1 from m15 and then recreate the h4 from h1"
   ]
  },
  {
   "cell_type": "markdown",
   "id": "791d0b29-8c30-4056-ad9f-048489419b3c",
   "metadata": {},
   "source": [
    "SPX_240m: \n",
    "first candle:  2014-05-06 13:30:00, last candle:  2021-12-02 14:30:00, number of candles:  3815\n",
    "\n",
    "SPX_60m: \n",
    "first candle:  2014-05-06 13:30:00, last candle:  2021-12-02 17:30:00, number of candles:  13329\n",
    "\n",
    "SPX_15m: \n",
    "first candle:  2018-12-03 14:30:00, last candle:  2021-12-02 17:45:00, number of candles:  20322"
   ]
  },
  {
   "cell_type": "markdown",
   "id": "dc2711e3-8ee8-4d50-b118-9f08f7135c1e",
   "metadata": {},
   "source": [
    "_____________________________________________________________________________________"
   ]
  },
  {
   "cell_type": "markdown",
   "id": "6d8771fc-43ac-401f-97b2-77fc5db0a4d1",
   "metadata": {},
   "source": [
    "## UKOIL"
   ]
  },
  {
   "cell_type": "markdown",
   "id": "12e41f1c-b822-4b19-97c1-1810ad77f4d1",
   "metadata": {},
   "source": [
    "### UKOIL 4h candles are shifted"
   ]
  },
  {
   "cell_type": "markdown",
   "id": "91a7a3ca-e8aa-4ae4-a9ef-da3911385d8c",
   "metadata": {},
   "source": [
    "the most appropariate approach is to reconstruct the candles from 1h candles"
   ]
  },
  {
   "cell_type": "markdown",
   "id": "f53f0412-2617-469d-ba17-e5908bee751d",
   "metadata": {},
   "source": [
    "UKOIL_240m: \n",
    "first candle:  2010-01-29 14:00:00, last candle:  2021-12-02 18:00:00, number of candles:  18270\n",
    "\n",
    "UKOIL_60m: \n",
    "first candle:  2018-01-01 23:00:00, last candle:  2021-12-02 18:00:00, number of candles:  22582\n",
    "\n",
    "UKOIL_15m: \n",
    "first candle:  2021-01-03 23:00:00, last candle:  2021-12-02 18:00:00, number of candles:  20988"
   ]
  },
  {
   "cell_type": "markdown",
   "id": "d553f554-38f5-4be3-8f7b-8001b40d1640",
   "metadata": {
    "tags": []
   },
   "source": [
    "# After preprocessing"
   ]
  },
  {
   "cell_type": "markdown",
   "id": "17a443c8-f508-4059-9a84-f10006ab677a",
   "metadata": {
    "tags": []
   },
   "source": [
    "## BTC"
   ]
  },
  {
   "cell_type": "markdown",
   "id": "3766f7c1-18e1-4f58-a347-0c5e33eb7c2a",
   "metadata": {},
   "source": [
    "### Target1 and 2"
   ]
  },
  {
   "cell_type": "markdown",
   "id": "e7446ccf-c22d-4c56-949b-8a04c0398015",
   "metadata": {},
   "source": [
    "4h candles start at 2017-08-28 16:00:00 and end at 2021-11-30 20:00:00"
   ]
  },
  {
   "cell_type": "markdown",
   "id": "fe7e3690-e168-471a-b0b6-2dafe2f9c119",
   "metadata": {},
   "source": [
    "1h candles start at 2017-08-28 19:00:00 and end at 2021-11-30 20:00:00"
   ]
  },
  {
   "cell_type": "markdown",
   "id": "eb63d12e-f5da-492d-aa1a-1945d9b9a307",
   "metadata": {},
   "source": [
    "15m candles start at 2017-08-28 19:45:00 and end at 2021-11-30 20:00:00"
   ]
  },
  {
   "cell_type": "markdown",
   "id": "7273a53e-9467-4dec-85a7-6b19958f025c",
   "metadata": {},
   "source": [
    "### Target3"
   ]
  },
  {
   "cell_type": "markdown",
   "id": "5464e4a6-f472-4597-a65c-3235075be5e9",
   "metadata": {},
   "source": [
    "4h candles start at 2017-08-28 16:00:00 and end at 2021-11-30 04:00:00"
   ]
  },
  {
   "cell_type": "markdown",
   "id": "d1bae07e-790d-4c12-91e4-c44b7f7f2e95",
   "metadata": {},
   "source": [
    "1h candles start at 2017-08-28 19:00:00 and end at 2021-11-30 04:00:00"
   ]
  },
  {
   "cell_type": "markdown",
   "id": "8043d9c3-73e2-47e1-8d44-c1b26356ecb3",
   "metadata": {},
   "source": [
    "15m candles start at 2017-08-28 19:45:00 and end at 2021-11-30 04:00:00"
   ]
  },
  {
   "cell_type": "markdown",
   "id": "9d85fbef-220b-49f8-b795-0dc2f4b9acf6",
   "metadata": {},
   "source": [
    "## Exogenous Data"
   ]
  },
  {
   "cell_type": "markdown",
   "id": "8cd4c6e8-22c9-483e-9cad-27623cd9dd6f",
   "metadata": {},
   "source": [
    "### Target1 and 2"
   ]
  },
  {
   "cell_type": "markdown",
   "id": "5a4a52ba-3d5a-4dc9-acb7-4fa235d47ee3",
   "metadata": {},
   "source": [
    "4h candles start at 2019-01-01 00:00:00 and end at 2021-11-30 20:00:00 (There are some nan values for the indicators up to 130 max)"
   ]
  },
  {
   "cell_type": "markdown",
   "id": "8ab5fa07-1fc4-46d1-9584-1c520a3df763",
   "metadata": {},
   "source": [
    "1h candles start at 2021-05-01 00:00:00 and end at 2021-11-30 20:00:00 (There are some nan values for the indicators up to 130 max)"
   ]
  },
  {
   "cell_type": "markdown",
   "id": "a3c1ab7d-da08-474e-83a2-da002bda65b5",
   "metadata": {},
   "source": [
    "15m candles start at 2021-09-20 00:00:00 and end at 2021-11-30 20:00:00 (There are some nan values for the indicators up to 130 max)"
   ]
  },
  {
   "cell_type": "markdown",
   "id": "b4f4705c-0dfc-4d7a-b509-bea9448aeb53",
   "metadata": {},
   "source": [
    "### Target3"
   ]
  },
  {
   "cell_type": "markdown",
   "id": "46cf436c-53aa-4fa8-a6a8-8a646b0c0e64",
   "metadata": {},
   "source": [
    "4h candles start at 2019-01-01 00:00:00 and end at 2021-11-30 04:00:00 (There are some nan values for the indicators up to 130 max)"
   ]
  },
  {
   "cell_type": "markdown",
   "id": "f50ff992-530c-433b-abc1-46b1b7288a11",
   "metadata": {},
   "source": [
    "1h candles start at 2021-05-01 00:00:00 and end at 2021-11-30 04:00:00 (There are some nan values for the indicators up to 130 max)"
   ]
  },
  {
   "cell_type": "markdown",
   "id": "83d2a137-603f-45aa-a1c7-fd1d463db8e6",
   "metadata": {},
   "source": [
    "15m candles start at 2021-09-20 00:00:00 and end at 2021-11-30 04:00:00 (There are some nan values for the indicators up to 130 max)"
   ]
  },
  {
   "cell_type": "markdown",
   "id": "e664af60-b21e-462c-83bd-df929540b509",
   "metadata": {},
   "source": []
  }
 ],
 "metadata": {
  "kernelspec": {
   "display_name": "Python 3 (ipykernel)",
   "language": "python",
   "name": "python3"
  },
  "language_info": {
   "codemirror_mode": {
    "name": "ipython",
    "version": 3
   },
   "file_extension": ".py",
   "mimetype": "text/x-python",
   "name": "python",
   "nbconvert_exporter": "python",
   "pygments_lexer": "ipython3",
   "version": "3.8.11"
  }
 },
 "nbformat": 4,
 "nbformat_minor": 5
}
